{
 "cells": [
  {
   "cell_type": "code",
   "execution_count": 52,
   "metadata": {
    "collapsed": true
   },
   "outputs": [],
   "source": [
    "import pywt\n",
    "import numpy as np"
   ]
  },
  {
   "cell_type": "code",
   "execution_count": 53,
   "metadata": {
    "collapsed": true
   },
   "outputs": [],
   "source": [
    "def timesa( i ):\n",
    "    newstr = ''\n",
    "    for j in range (0,i):\n",
    "        newstr = newstr + 'a'\n",
    "    return newstr;"
   ]
  },
  {
   "cell_type": "code",
   "execution_count": 59,
   "metadata": {
    "collapsed": true
   },
   "outputs": [],
   "source": [
    "def numberofWeights (x,y):\n",
    "    #create matrix with x and y for coorelated version\n",
    "    xy = (x,y)\n",
    "    \n",
    "    #Initialize all wavelet data\n",
    "    xW = pywt.WaveletPacket(data = x, wavelet = 'db1', mode = 'symmetric')\n",
    "    yW = pywt.WaveletPacket(data = y, wavelet = 'db1', mode = 'symmetric')\n",
    "    xyW = pywt.WaveletPacket2D(data = xy, wavelet = 'db1', mode = 'symmetric')\n",
    "    \n",
    "    return xW[timesa(xW['ad'].maxlevel)].data.size , yW[timesa(yW['ad'].maxlevel)].data.size, xyW[timesa(xyW.maxlevel)].data.size\n",
    "    "
   ]
  },
  {
   "cell_type": "code",
   "execution_count": 55,
   "metadata": {
    "collapsed": false
   },
   "outputs": [
    {
     "data": {
      "text/plain": [
       "(2, 2, 5000)"
      ]
     },
     "execution_count": 55,
     "metadata": {},
     "output_type": "execute_result"
    }
   ],
   "source": [
    "a = np.random.randint(low = 0, high = 100, size = 10000)\n",
    "b = np.random.randint(low = 0 , high = 100, size = 10000)\n",
    "\n",
    "numberofWeights(a,b)"
   ]
  },
  {
   "cell_type": "code",
   "execution_count": 56,
   "metadata": {
    "collapsed": false
   },
   "outputs": [
    {
     "data": {
      "text/plain": [
       "(2, 2, 5000)"
      ]
     },
     "execution_count": 56,
     "metadata": {},
     "output_type": "execute_result"
    }
   ],
   "source": [
    "a = np.random.randint(low = 0, high = 100, size = 10000)\n",
    "b = a + 0.5*np.random.randint(low = 0 , high = 100, size = 10000)\n",
    "\n",
    "numberofWeights(a,b)"
   ]
  },
  {
   "cell_type": "code",
   "execution_count": 57,
   "metadata": {
    "collapsed": false
   },
   "outputs": [
    {
     "data": {
      "text/plain": [
       "(2, 2, 5000)"
      ]
     },
     "execution_count": 57,
     "metadata": {},
     "output_type": "execute_result"
    }
   ],
   "source": [
    "a = np.random.randint(low = 0, high = 100, size = 10000)\n",
    "b = a + 0.1*np.random.randint(low = 0 , high = 100, size = 10000)\n",
    "\n",
    "numberofWeights(a,b)"
   ]
  },
  {
   "cell_type": "code",
   "execution_count": 58,
   "metadata": {
    "collapsed": false
   },
   "outputs": [
    {
     "data": {
      "text/plain": [
       "(2, 2, 5000)"
      ]
     },
     "execution_count": 58,
     "metadata": {},
     "output_type": "execute_result"
    }
   ],
   "source": [
    "a = np.random.randint(low = 0, high = 100, size = 10000)\n",
    "b = a\n",
    "\n",
    "numberofWeights(a,b)"
   ]
  },
  {
   "cell_type": "code",
   "execution_count": null,
   "metadata": {
    "collapsed": true
   },
   "outputs": [],
   "source": []
  }
 ],
 "metadata": {
  "kernelspec": {
   "display_name": "Python 3",
   "language": "python",
   "name": "python3"
  },
  "language_info": {
   "codemirror_mode": {
    "name": "ipython",
    "version": 3
   },
   "file_extension": ".py",
   "mimetype": "text/x-python",
   "name": "python",
   "nbconvert_exporter": "python",
   "pygments_lexer": "ipython3",
   "version": "3.6.0"
  }
 },
 "nbformat": 4,
 "nbformat_minor": 2
}

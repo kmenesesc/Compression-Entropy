{
 "cells": [
  {
   "cell_type": "code",
   "execution_count": 9,
   "metadata": {
    "collapsed": true
   },
   "outputs": [],
   "source": [
    "import pywt\n",
    "import numpy as np"
   ]
  },
  {
   "cell_type": "code",
   "execution_count": 43,
   "metadata": {
    "collapsed": false
   },
   "outputs": [],
   "source": [
    "def a( i ):\n",
    "    newstr = ''\n",
    "    for j in range (0,i):\n",
    "        newstr = newstr + 'a'\n",
    "    return newstr;"
   ]
  },
  {
   "cell_type": "code",
   "execution_count": 26,
   "metadata": {
    "collapsed": false
   },
   "outputs": [],
   "source": [
    "#Create Data\n",
    "x = np.random.randint(low = 0, high = 100, size = 20)\n",
    "y = np.random.randint(low = 0 , high = 100, size = 20)\n",
    "xy = (x,y)\n",
    "#print(x)\n",
    "#print(\"\\n\")\n",
    "#print(y)\n",
    "#print(\"\\n\")\n",
    "#print(xy)\n",
    "xW = pywt.WaveletPacket(data = x, wavelet = 'db1', mode = 'symmetric')\n",
    "yW = pywt.WaveletPacket(data = y, wavelet = 'db1', mode = 'symmetric')\n",
    "xyW = pywt.WaveletPacket2D(data = xy, wavelet = 'db1', mode = 'symmetric')\n",
    "#print(xyW.data)"
   ]
  },
  {
   "cell_type": "code",
   "execution_count": 28,
   "metadata": {
    "collapsed": false
   },
   "outputs": [
    {
     "name": "stdout",
     "output_type": "stream",
     "text": [
      "Vector x maximum level of decomposition is 7\n",
      "Vector y maximum level of decomposition is 7\n",
      "2D matrix with colums (x,y) maximum level of decomposition is 1\n"
     ]
    }
   ],
   "source": [
    "print(\"Vector x maximum level of decomposition is \" + str(xW['ad'].maxlevel))\n",
    "print(\"Vector y maximum level of decomposition is \" + str(yW['ad'].maxlevel))\n",
    "print(\"2D matrix with colums (x,y) maximum level of decomposition is \" + str(xyW.maxlevel))\n",
    "#It would be good to analyze what affects these max levels"
   ]
  },
  {
   "cell_type": "code",
   "execution_count": 47,
   "metadata": {
    "collapsed": false
   },
   "outputs": [
    {
     "name": "stdout",
     "output_type": "stream",
     "text": [
      "[ 589.55027881  701.27315024]\n",
      "[ 541.02507596  560.0285707 ]\n",
      "[[  52.   144.5  104.   123.5   58.   117.    94.    84.5  142.    97.5\n",
      "    95.5  124.    88.   133.    58.    85.    94.5  153.   104.   145.5\n",
      "    73.5  141.5   87.5   99.5   87.5  100.   137.   154.5   67.   117.5\n",
      "    48.5   89.5   90.5   86.5   95.    70.    99.5   77.    42.    99.\n",
      "    69.    93.   134.    92.    76.5   86.5   87.   146.5   73.5   64.5\n",
      "   118.   129.5  148.    84.5  155.5  119.    61.5  144.5   89.    42.\n",
      "    80.5   66.   167.5  107.    98.5  104.   116.5   38.5  108.    60.5\n",
      "   121.5  114.5   58.   103.5   93.5   81.5  126.    87.5  131.   104.5\n",
      "   165.    63.5  120.5  116.5  105.5  121.    76.    66.   100.5  135.\n",
      "    81.   124.    40.   137.    65.5  126.5  132.   151.   104.   106. ]]\n"
     ]
    }
   ],
   "source": [
    "print(xW[a(xW['ad'].maxlevel)].data)\n",
    "print(yW[a(yW['ad'].maxlevel)].data)\n",
    "print(xyW[a(xyW.maxlevel)].data)"
   ]
  },
  {
   "cell_type": "code",
   "execution_count": 49,
   "metadata": {
    "collapsed": false
   },
   "outputs": [
    {
     "name": "stdout",
     "output_type": "stream",
     "text": [
      "2\n",
      "2\n",
      "100\n"
     ]
    }
   ],
   "source": [
    "print(xW[a(xW['ad'].maxlevel)].data.size)\n",
    "print(yW[a(yW['ad'].maxlevel)].data.size)\n",
    "print(xyW[a(xyW.maxlevel)].data.size)"
   ]
  },
  {
   "cell_type": "code",
   "execution_count": null,
   "metadata": {
    "collapsed": true
   },
   "outputs": [],
   "source": []
  }
 ],
 "metadata": {
  "kernelspec": {
   "display_name": "Python 3",
   "language": "python",
   "name": "python3"
  },
  "language_info": {
   "codemirror_mode": {
    "name": "ipython",
    "version": 3
   },
   "file_extension": ".py",
   "mimetype": "text/x-python",
   "name": "python",
   "nbconvert_exporter": "python",
   "pygments_lexer": "ipython3",
   "version": "3.6.0"
  }
 },
 "nbformat": 4,
 "nbformat_minor": 2
}
